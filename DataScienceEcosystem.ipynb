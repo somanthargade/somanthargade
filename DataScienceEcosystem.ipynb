{
 "cells": [
  {
   "cell_type": "markdown",
   "id": "4d4c9635",
   "metadata": {},
   "source": [
    "# Data Science Tools and Ecosystem"
   ]
  },
  {
   "cell_type": "markdown",
   "id": "25882908",
   "metadata": {},
   "source": [
    "## In this notebook, Data Science Tools and Ecosystem are summarized."
   ]
  },
  {
   "cell_type": "markdown",
   "id": "2c71c327",
   "metadata": {},
   "source": [
    "## Some of the popular languages that Data Scientists use are:"
   ]
  },
  {
   "cell_type": "markdown",
   "id": "6c3b448a",
   "metadata": {},
   "source": [
    "* 1. Python\n",
    "* 2. SQL\n",
    "* 3. R"
   ]
  },
  {
   "cell_type": "markdown",
   "id": "422e3d86",
   "metadata": {},
   "source": [
    "### Some of the commonly used libraries used by Data Scientists include:"
   ]
  },
  {
   "cell_type": "markdown",
   "id": "6f89f0e9",
   "metadata": {},
   "source": [
    "* Apache Hadoop\n",
    "* Apache Hive\n",
    "* Apache Pig\n",
    "* Apache Mahout\n",
    "* RapidMine\n",
    "* NumPy"
   ]
  },
  {
   "cell_type": "markdown",
   "id": "9b8ca2a5",
   "metadata": {},
   "source": [
    "| Data Science Tools |\n",
    "|---|\n",
    "| Python |\n",
    "| R |\n",
    "| SQL |\n",
    "| Power BI |"
   ]
  },
  {
   "cell_type": "markdown",
   "id": "239c2584",
   "metadata": {},
   "source": [
    "### Below are a few examples of evaluating arithmetic expressions in Python"
   ]
  },
  {
   "cell_type": "markdown",
   "id": "60e3ab6a",
   "metadata": {},
   "source": [
    "Pythogorus Theroum : $x^2 + y^2 = Z^2$   Area of Square $ A = S^2$"
   ]
  },
  {
   "cell_type": "markdown",
   "id": "42e3229c",
   "metadata": {},
   "source": [
    "## This a simple arithmetic expression to mutiply then add integers"
   ]
  },
  {
   "cell_type": "code",
   "execution_count": 8,
   "id": "06f858ae",
   "metadata": {},
   "outputs": [
    {
     "data": {
      "text/plain": [
       "17"
      ]
     },
     "execution_count": 8,
     "metadata": {},
     "output_type": "execute_result"
    }
   ],
   "source": [
    "(3*4)+5"
   ]
  },
  {
   "cell_type": "markdown",
   "id": "8831ec70",
   "metadata": {},
   "source": [
    "### Create a code cell to convert minutes to hours"
   ]
  },
  {
   "cell_type": "code",
   "execution_count": 9,
   "id": "ee764945",
   "metadata": {},
   "outputs": [
    {
     "data": {
      "text/plain": [
       "3.3333333333333335"
      ]
     },
     "execution_count": 9,
     "metadata": {},
     "output_type": "execute_result"
    }
   ],
   "source": [
    "200/60"
   ]
  },
  {
   "cell_type": "markdown",
   "id": "c9547f8c",
   "metadata": {},
   "source": [
    "# Objectives:"
   ]
  },
  {
   "cell_type": "markdown",
   "id": "f164fbd9",
   "metadata": {},
   "source": [
    "* Python\n",
    "* SQL\n",
    "* R\n",
    "* VBA (Visual Basic for Applications)\n",
    "* Julia"
   ]
  },
  {
   "cell_type": "markdown",
   "id": "856a0ad6",
   "metadata": {},
   "source": [
    "## Author"
   ]
  },
  {
   "cell_type": "markdown",
   "id": "fc93638a",
   "metadata": {},
   "source": [
    "### Somnath Ramesh Argade"
   ]
  },
  {
   "cell_type": "code",
   "execution_count": null,
   "id": "210ddf72",
   "metadata": {},
   "outputs": [],
   "source": []
  }
 ],
 "metadata": {
  "kernelspec": {
   "display_name": "Python 3 (ipykernel)",
   "language": "python",
   "name": "python3"
  },
  "language_info": {
   "codemirror_mode": {
    "name": "ipython",
    "version": 3
   },
   "file_extension": ".py",
   "mimetype": "text/x-python",
   "name": "python",
   "nbconvert_exporter": "python",
   "pygments_lexer": "ipython3",
   "version": "3.11.5"
  }
 },
 "nbformat": 4,
 "nbformat_minor": 5
}
